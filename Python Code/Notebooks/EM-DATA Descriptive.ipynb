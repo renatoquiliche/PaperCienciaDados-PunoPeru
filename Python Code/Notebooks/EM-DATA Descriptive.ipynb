{
 "cells": [
  {
   "cell_type": "code",
   "execution_count": 1,
   "metadata": {},
   "outputs": [],
   "source": [
    "import pandas as pd\n",
    "import seaborn as sns\n",
    "import matplotlib.pyplot as plt\n",
    "import numpy as np\n",
    "\n",
    "data = pd.read_excel(\"G:\\My Drive\\Tesis - Mestrado PUCRio\\emdat_public_2022_05_25_query_uid-yUy1yp.xlsx\")"
   ]
  },
  {
   "cell_type": "code",
   "execution_count": 61,
   "metadata": {},
   "outputs": [
    {
     "data": {
      "text/plain": [
       "Meteorological    1569\n",
       "Hydrological      1501\n",
       "Geophysical        430\n",
       "Climatological     348\n",
       "Biological         186\n",
       "Name: Disaster Subgroup, dtype: int64"
      ]
     },
     "execution_count": 61,
     "metadata": {},
     "output_type": "execute_result"
    }
   ],
   "source": [
    "data.loc[(data[\"Disaster Group\"]==\"Natural\")][\"Disaster Subgroup\"].value_counts()"
   ]
  },
  {
   "cell_type": "code",
   "execution_count": 62,
   "metadata": {},
   "outputs": [
    {
     "data": {
      "text/plain": [
       "Wildfire    181\n",
       "Drought     167\n",
       "Name: Disaster Type, dtype: int64"
      ]
     },
     "execution_count": 62,
     "metadata": {},
     "output_type": "execute_result"
    }
   ],
   "source": [
    "data.loc[(data[\"Disaster Group\"]==\"Natural\") & (data[\"Disaster Subgroup\"]==\"Climatological\")][\"Disaster Type\"].value_counts()"
   ]
  },
  {
   "cell_type": "code",
   "execution_count": 27,
   "metadata": {},
   "outputs": [],
   "source": [
    "world_elt = data.loc[(data[\"Year\"]>2000) & ((data[\"Disaster Subtype\"]==\"Cold wave\") | (data[\"Disaster Subtype\"]==\"Severe winter conditions\"))]"
   ]
  },
  {
   "cell_type": "code",
   "execution_count": 49,
   "metadata": {},
   "outputs": [
    {
     "name": "stdout",
     "output_type": "stream",
     "text": [
      "21.27659574468085\n"
     ]
    }
   ],
   "source": [
    "affecting_peru = world_elt.loc[world_elt[\"Country\"]==\"Peru\"].shape[0]/world_elt.shape[0]\n",
    "print(affecting_peru*100)"
   ]
  },
  {
   "cell_type": "code",
   "execution_count": 50,
   "metadata": {},
   "outputs": [
    {
     "name": "stdout",
     "output_type": "stream",
     "text": [
      "47.61904761904761\n"
     ]
    }
   ],
   "source": [
    "affecting_peru = world_elt.loc[world_elt[\"Country\"]==\"Peru\"][\"Total Affected\"].dropna().shape[0]/world_elt[\"Total Affected\"].dropna().shape[0]\n",
    "print(affecting_peru*100)"
   ]
  },
  {
   "cell_type": "code",
   "execution_count": 8,
   "metadata": {},
   "outputs": [
    {
     "data": {
      "text/plain": [
       "array(['Dis No', 'Year', 'Seq', 'Glide', 'Disaster Group',\n",
       "       'Disaster Subgroup', 'Disaster Type', 'Disaster Subtype',\n",
       "       'Disaster Subsubtype', 'Event Name', 'Country', 'ISO', 'Region',\n",
       "       'Continent', 'Location', 'Origin', 'Associated Dis',\n",
       "       'Associated Dis2', 'OFDA Response', 'Appeal', 'Declaration',\n",
       "       'Aid Contribution', 'Dis Mag Value', 'Dis Mag Scale', 'Latitude',\n",
       "       'Longitude', 'Local Time', 'River Basin', 'Start Year',\n",
       "       'Start Month', 'Start Day', 'End Year', 'End Month', 'End Day',\n",
       "       'Total Deaths', 'No Injured', 'No Affected', 'No Homeless',\n",
       "       'Total Affected', \"Reconstruction Costs ('000 US$)\",\n",
       "       \"Reconstruction Costs, Adjusted ('000 US$)\",\n",
       "       \"Insured Damages ('000 US$)\",\n",
       "       \"Insured Damages, Adjusted ('000 US$)\", \"Total Damages ('000 US$)\",\n",
       "       \"Total Damages, Adjusted ('000 US$)\", 'CPI', 'Adm Level',\n",
       "       'Admin1 Code', 'Admin2 Code', 'Geo Locations'], dtype=object)"
      ]
     },
     "execution_count": 8,
     "metadata": {},
     "output_type": "execute_result"
    }
   ],
   "source": [
    "data.columns.values"
   ]
  },
  {
   "cell_type": "code",
   "execution_count": null,
   "metadata": {},
   "outputs": [],
   "source": []
  }
 ],
 "metadata": {
  "kernelspec": {
   "display_name": "Python 3.10.5 64-bit",
   "language": "python",
   "name": "python3"
  },
  "language_info": {
   "codemirror_mode": {
    "name": "ipython",
    "version": 3
   },
   "file_extension": ".py",
   "mimetype": "text/x-python",
   "name": "python",
   "nbconvert_exporter": "python",
   "pygments_lexer": "ipython3",
   "version": "3.10.5"
  },
  "orig_nbformat": 4,
  "vscode": {
   "interpreter": {
    "hash": "afb734500600fd355917ca529030176ea0ca205570884b88f2f6f7d791fd3fbe"
   }
  }
 },
 "nbformat": 4,
 "nbformat_minor": 2
}
