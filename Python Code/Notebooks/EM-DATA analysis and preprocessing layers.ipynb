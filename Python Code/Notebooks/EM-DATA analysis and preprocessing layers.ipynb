{
 "cells": [
  {
   "cell_type": "code",
   "execution_count": 57,
   "id": "a56fdd2c",
   "metadata": {},
   "outputs": [],
   "source": [
    "import pandas as pd\n",
    "import seaborn as sns\n",
    "import matplotlib.pyplot as plt\n",
    "import numpy as np"
   ]
  },
  {
   "cell_type": "code",
   "execution_count": 2,
   "id": "26f7c263",
   "metadata": {},
   "outputs": [],
   "source": [
    "data = pd.read_excel(\"G:\\My Drive\\Tesis - Mestrado PUCRio\\emdat_public_2022_05_25_query_uid-yUy1yp.xlsx\")"
   ]
  },
  {
   "cell_type": "code",
   "execution_count": 3,
   "id": "10b17e96",
   "metadata": {},
   "outputs": [
    {
     "data": {
      "text/plain": [
       "0                            Guatemala\n",
       "1                            Guatemala\n",
       "2                            Guatemala\n",
       "3                               Canada\n",
       "4                               Canada\n",
       "                     ...              \n",
       "5582                       Puerto Rico\n",
       "5583    United States of America (the)\n",
       "5584    United States of America (the)\n",
       "5585    United States of America (the)\n",
       "5586    United States of America (the)\n",
       "Name: Country, Length: 5587, dtype: object"
      ]
     },
     "execution_count": 3,
     "metadata": {},
     "output_type": "execute_result"
    }
   ],
   "source": [
    "data.Country"
   ]
  },
  {
   "cell_type": "code",
   "execution_count": 4,
   "id": "12b644a5",
   "metadata": {},
   "outputs": [],
   "source": [
    "data_peru = data[(data[\"Country\"]==\"Peru\") & (data[\"Year\"]>=2000)]"
   ]
  },
  {
   "cell_type": "code",
   "execution_count": 5,
   "id": "07c1dbf9",
   "metadata": {},
   "outputs": [
    {
     "name": "stdout",
     "output_type": "stream",
     "text": [
      "Transport accident        105\n",
      "Flood                      45\n",
      "Earthquake                 17\n",
      "Landslide                  12\n",
      "Extreme temperature        10\n",
      "Miscellaneous accident      7\n",
      "Volcanic activity           4\n",
      "Epidemic                    4\n",
      "Drought                     3\n",
      "Storm                       2\n",
      "Insect infestation          1\n",
      "Industrial accident         1\n",
      "Wildfire                    1\n",
      "Name: Disaster Type, dtype: int64\n"
     ]
    }
   ],
   "source": [
    "Disaster_Types = data_peru[\"Disaster Type\"].value_counts()\n",
    "print(Disaster_Types)"
   ]
  },
  {
   "cell_type": "code",
   "execution_count": 6,
   "id": "7c1aa6ab",
   "metadata": {},
   "outputs": [],
   "source": [
    "extreme_low_temperature = data_peru[data_peru[\"Disaster Type\"]==\"Extreme temperature\"]"
   ]
  },
  {
   "cell_type": "code",
   "execution_count": 195,
   "id": "6651b76d",
   "metadata": {},
   "outputs": [
    {
     "data": {
      "text/plain": [
       "(10, 2)"
      ]
     },
     "execution_count": 195,
     "metadata": {},
     "output_type": "execute_result"
    }
   ],
   "source": [
    "extreme_low_temperature[[\"Location\", \"Geo Locations\"]].shape"
   ]
  },
  {
   "cell_type": "code",
   "execution_count": 8,
   "id": "902a6a9d",
   "metadata": {},
   "outputs": [
    {
     "data": {
      "text/plain": [
       "array([2003, 2004, 2007, 2010, 2013, 2014, 2015], dtype=int64)"
      ]
     },
     "execution_count": 8,
     "metadata": {},
     "output_type": "execute_result"
    }
   ],
   "source": [
    "PUNO_ELT = extreme_low_temperature[extreme_low_temperature[\"Location\"].str.contains('Puno')]\n",
    "\n",
    "PUNO_ELT[\"Start Year\"].values"
   ]
  },
  {
   "cell_type": "code",
   "execution_count": 48,
   "id": "8af546d6",
   "metadata": {},
   "outputs": [],
   "source": [
    "Locations = PUNO_ELT[\"Geo Locations\"].str.replace('(Adm1).', '', regex=False)\n",
    "Locations = Locations.str.replace(' Apurimac', 'Apurímac', regex=True)\n",
    "Locations = Locations.str.replace(' Arequipa', 'Arequipa', regex=True)\n",
    "Locations = Locations.str.replace(' Ayacucho', 'Ayacucho', regex=True)\n",
    "Locations = Locations.str.replace(' Cusco', 'Cusco', regex=True)\n",
    "Locations = Locations.str.replace(' Huancavelica', 'Huancavelica', regex=True)\n",
    "Locations = Locations.str.replace(' Lima', 'Lima', regex=True)\n",
    "Locations = Locations.str.replace(' Moquegua', 'Moquegua', regex=True)\n",
    "Locations = Locations.str.replace(' Pasco', 'Pasco', regex=True)\n",
    "Locations = Locations.str.replace(' Puno', 'Puno', regex=True)\n",
    "Locations = Locations.str.replace(' Tacna ', 'Tacna', regex=True)\n",
    "Locations = Locations.str.replace(' Tacna', 'Tacna', regex=True)\n",
    "Locations = Locations.str.replace(' Ancash', 'Ancash', regex=True)\n",
    "Locations = Locations.str.replace(' Cajamarca', 'Cajamarca', regex=True)\n",
    "Locations = Locations.str.replace(' Huanuco', 'Huánuco', regex=True)\n",
    "Locations = Locations.str.replace(' Junin', 'Junín', regex=True)\n",
    "Locations = Locations.str.replace(' La Libertad', 'La Libertad', regex=True)\n",
    "Locations = Locations.str.replace(' Piura', 'Piura', regex=True)\n",
    "Locations = Locations.str.replace(' San Martin', 'San Martín', regex=True)\n",
    "Locations = Locations.str.replace(' Callao', 'Callao', regex=True)\n",
    "Locations = Locations.str.replace(' Ucayali ', 'Ucayali', regex=True)\n",
    "Locations = Locations.str.replace(' Ucayali', 'Ucayali', regex=True)\n",
    "Locations = Locations.str.replace(' Lambayeque', 'Lambayeque', regex=True)\n",
    "Locations = Locations.str.replace(' Loreto', 'Loreto', regex=True)\n",
    "Locations = Locations.str.replace(' Madre de Dios', 'Madre de Dios', regex=True)\n",
    "\n",
    "\n",
    "#Locations.iloc[0].split(\",\")\n",
    "\n",
    "\n",
    "\n",
    "\n",
    "#PUNO_ELT[\"Geo Locations\"].str.split(pat=\",\").tolist()"
   ]
  },
  {
   "cell_type": "code",
   "execution_count": 67,
   "id": "b6d9aa21",
   "metadata": {},
   "outputs": [
    {
     "name": "stdout",
     "output_type": "stream",
     "text": [
      "2003\n",
      "0\n",
      "2004\n",
      "1\n",
      "2007\n",
      "2\n",
      "2010\n",
      "3\n",
      "2013\n",
      "4\n",
      "2014\n",
      "5\n",
      "2015\n",
      "6\n"
     ]
    }
   ],
   "source": [
    "i = -1\n",
    "Dict = {\"Locations2003\": [Locations.iloc[0].split(\",\")]} \n",
    "\n",
    "for year in PUNO_ELT[\"Start Year\"]:\n",
    "    print(year)\n",
    "    exec(f'Dict[\"Locations{year}\"] = Locations.iloc[i].split(\",\")')\n",
    "    i=i+1\n",
    "    print(i)\n"
   ]
  },
  {
   "cell_type": "code",
   "execution_count": 188,
   "id": "655aa625",
   "metadata": {},
   "outputs": [],
   "source": [
    "pop = pd.read_excel(\"perupop2007.xlsx\")"
   ]
  },
  {
   "cell_type": "code",
   "execution_count": 189,
   "id": "edaa2c97",
   "metadata": {},
   "outputs": [],
   "source": [
    "#pop[\"Dep\"] = pop.Dep.astype(str)\n",
    "pop_var = {\"year\": [], \"total_pop\": []}\n",
    "\n",
    "for year in PUNO_ELT[\"Start Year\"]:\n",
    "    exec(f'pop_var[\"total_pop\"].append(np.sum(pop.merge(pd.DataFrame(Dict[\"Locations{year}\"], columns=[\"Dep\"]).Dep.astype(str), left_on=\"Dep\", right_on=\"Dep\")[\"Pop\"].values))')\n",
    "    exec(f'pop_var[\"year\"].append({year})')\n"
   ]
  },
  {
   "cell_type": "code",
   "execution_count": 190,
   "id": "73c880c2",
   "metadata": {},
   "outputs": [
    {
     "data": {
      "text/html": [
       "<div>\n",
       "<style scoped>\n",
       "    .dataframe tbody tr th:only-of-type {\n",
       "        vertical-align: middle;\n",
       "    }\n",
       "\n",
       "    .dataframe tbody tr th {\n",
       "        vertical-align: top;\n",
       "    }\n",
       "\n",
       "    .dataframe thead th {\n",
       "        text-align: right;\n",
       "    }\n",
       "</style>\n",
       "<table border=\"1\" class=\"dataframe\">\n",
       "  <thead>\n",
       "    <tr style=\"text-align: right;\">\n",
       "      <th></th>\n",
       "      <th>year</th>\n",
       "      <th>total_pop</th>\n",
       "    </tr>\n",
       "  </thead>\n",
       "  <tbody>\n",
       "    <tr>\n",
       "      <th>0</th>\n",
       "      <td>2003</td>\n",
       "      <td>14160029</td>\n",
       "    </tr>\n",
       "    <tr>\n",
       "      <th>1</th>\n",
       "      <td>2004</td>\n",
       "      <td>5304887</td>\n",
       "    </tr>\n",
       "    <tr>\n",
       "      <th>2</th>\n",
       "      <td>2007</td>\n",
       "      <td>18324487</td>\n",
       "    </tr>\n",
       "    <tr>\n",
       "      <th>3</th>\n",
       "      <td>2010</td>\n",
       "      <td>10040551</td>\n",
       "    </tr>\n",
       "    <tr>\n",
       "      <th>4</th>\n",
       "      <td>2013</td>\n",
       "      <td>19246005</td>\n",
       "    </tr>\n",
       "    <tr>\n",
       "      <th>5</th>\n",
       "      <td>2014</td>\n",
       "      <td>5400447</td>\n",
       "    </tr>\n",
       "    <tr>\n",
       "      <th>6</th>\n",
       "      <td>2015</td>\n",
       "      <td>27123303</td>\n",
       "    </tr>\n",
       "  </tbody>\n",
       "</table>\n",
       "</div>"
      ],
      "text/plain": [
       "   year  total_pop\n",
       "0  2003   14160029\n",
       "1  2004    5304887\n",
       "2  2007   18324487\n",
       "3  2010   10040551\n",
       "4  2013   19246005\n",
       "5  2014    5400447\n",
       "6  2015   27123303"
      ]
     },
     "execution_count": 190,
     "metadata": {},
     "output_type": "execute_result"
    }
   ],
   "source": [
    "pd.DataFrame(pop_var)"
   ]
  },
  {
   "cell_type": "code",
   "execution_count": 191,
   "id": "c8944f14",
   "metadata": {},
   "outputs": [],
   "source": [
    "PUNO_ELT = PUNO_ELT.merge(pd.DataFrame(pop_var), left_on=\"Start Year\", right_on=\"year\")"
   ]
  },
  {
   "cell_type": "markdown",
   "id": "376a1ad0",
   "metadata": {},
   "source": [
    "PUNO_ELT.columns"
   ]
  },
  {
   "cell_type": "code",
   "execution_count": 192,
   "id": "8dc886a7",
   "metadata": {},
   "outputs": [],
   "source": [
    "estimations = PUNO_ELT[[\"Total Affected\", \"total_pop\", \"year\"]]\n",
    "estimations = estimations.rename(columns = {\"Total Affected\":\"total\"})"
   ]
  },
  {
   "cell_type": "markdown",
   "id": "b06163bf",
   "metadata": {},
   "source": [
    "precentage = []\n",
    "for i in range(7):\n",
    "    percentage = percentage.append('{:.2%}'.format(estimations.total[i]/estimations.total_pop[i]))"
   ]
  },
  {
   "cell_type": "code",
   "execution_count": 193,
   "id": "f1580fd7",
   "metadata": {},
   "outputs": [
    {
     "data": {
      "text/html": [
       "<div>\n",
       "<style scoped>\n",
       "    .dataframe tbody tr th:only-of-type {\n",
       "        vertical-align: middle;\n",
       "    }\n",
       "\n",
       "    .dataframe tbody tr th {\n",
       "        vertical-align: top;\n",
       "    }\n",
       "\n",
       "    .dataframe thead th {\n",
       "        text-align: right;\n",
       "    }\n",
       "</style>\n",
       "<table border=\"1\" class=\"dataframe\">\n",
       "  <thead>\n",
       "    <tr style=\"text-align: right;\">\n",
       "      <th></th>\n",
       "      <th>total</th>\n",
       "      <th>total_pop</th>\n",
       "      <th>year</th>\n",
       "      <th>percent</th>\n",
       "      <th>0</th>\n",
       "      <th>1</th>\n",
       "      <th>2</th>\n",
       "      <th>3</th>\n",
       "      <th>4</th>\n",
       "      <th>5</th>\n",
       "      <th>...</th>\n",
       "      <th>12</th>\n",
       "      <th>13</th>\n",
       "      <th>14</th>\n",
       "      <th>15</th>\n",
       "      <th>16</th>\n",
       "      <th>17</th>\n",
       "      <th>18</th>\n",
       "      <th>19</th>\n",
       "      <th>20</th>\n",
       "      <th>21</th>\n",
       "    </tr>\n",
       "  </thead>\n",
       "  <tbody>\n",
       "    <tr>\n",
       "      <th>0</th>\n",
       "      <td>1839888.0</td>\n",
       "      <td>14160029</td>\n",
       "      <td>2003</td>\n",
       "      <td>0.129935</td>\n",
       "      <td>Apurimac</td>\n",
       "      <td>Arequipa</td>\n",
       "      <td>Ayacucho</td>\n",
       "      <td>Cusco</td>\n",
       "      <td>Huancavelica</td>\n",
       "      <td>Moquegua</td>\n",
       "      <td>...</td>\n",
       "      <td>None</td>\n",
       "      <td>None</td>\n",
       "      <td>None</td>\n",
       "      <td>None</td>\n",
       "      <td>None</td>\n",
       "      <td>None</td>\n",
       "      <td>None</td>\n",
       "      <td>None</td>\n",
       "      <td>None</td>\n",
       "      <td>None</td>\n",
       "    </tr>\n",
       "    <tr>\n",
       "      <th>1</th>\n",
       "      <td>2137467.0</td>\n",
       "      <td>5304887</td>\n",
       "      <td>2004</td>\n",
       "      <td>0.402924</td>\n",
       "      <td>Ancash</td>\n",
       "      <td>Apurimac</td>\n",
       "      <td>Arequipa</td>\n",
       "      <td>Ayacucho</td>\n",
       "      <td>Cusco</td>\n",
       "      <td>Huancavelica</td>\n",
       "      <td>...</td>\n",
       "      <td>Puno</td>\n",
       "      <td>Tacna</td>\n",
       "      <td>Ucayali (Adm1).</td>\n",
       "      <td>None</td>\n",
       "      <td>None</td>\n",
       "      <td>None</td>\n",
       "      <td>None</td>\n",
       "      <td>None</td>\n",
       "      <td>None</td>\n",
       "      <td>None</td>\n",
       "    </tr>\n",
       "    <tr>\n",
       "      <th>2</th>\n",
       "      <td>884572.0</td>\n",
       "      <td>18324487</td>\n",
       "      <td>2007</td>\n",
       "      <td>0.048273</td>\n",
       "      <td>Apurimac</td>\n",
       "      <td>Arequipa</td>\n",
       "      <td>Ayacucho</td>\n",
       "      <td>Cajamarca</td>\n",
       "      <td>Cusco</td>\n",
       "      <td>Huancavelica</td>\n",
       "      <td>...</td>\n",
       "      <td>Tacna (Adm1).</td>\n",
       "      <td>None</td>\n",
       "      <td>None</td>\n",
       "      <td>None</td>\n",
       "      <td>None</td>\n",
       "      <td>None</td>\n",
       "      <td>None</td>\n",
       "      <td>None</td>\n",
       "      <td>None</td>\n",
       "      <td>None</td>\n",
       "    </tr>\n",
       "    <tr>\n",
       "      <th>3</th>\n",
       "      <td>57600.0</td>\n",
       "      <td>10040551</td>\n",
       "      <td>2010</td>\n",
       "      <td>0.005737</td>\n",
       "      <td>Ancash</td>\n",
       "      <td>Apurimac</td>\n",
       "      <td>Arequipa</td>\n",
       "      <td>Ayacucho</td>\n",
       "      <td>Cusco</td>\n",
       "      <td>Huancavelica</td>\n",
       "      <td>...</td>\n",
       "      <td>Pasco</td>\n",
       "      <td>Puno</td>\n",
       "      <td>Tacna</td>\n",
       "      <td>Ucayali (Adm1).</td>\n",
       "      <td>None</td>\n",
       "      <td>None</td>\n",
       "      <td>None</td>\n",
       "      <td>None</td>\n",
       "      <td>None</td>\n",
       "      <td>None</td>\n",
       "    </tr>\n",
       "    <tr>\n",
       "      <th>4</th>\n",
       "      <td>92701.0</td>\n",
       "      <td>19246005</td>\n",
       "      <td>2013</td>\n",
       "      <td>0.004817</td>\n",
       "      <td>Apurimac</td>\n",
       "      <td>Ayacucho</td>\n",
       "      <td>Cusco</td>\n",
       "      <td>Huancavelica</td>\n",
       "      <td>Junin</td>\n",
       "      <td>Moquegua</td>\n",
       "      <td>...</td>\n",
       "      <td>None</td>\n",
       "      <td>None</td>\n",
       "      <td>None</td>\n",
       "      <td>None</td>\n",
       "      <td>None</td>\n",
       "      <td>None</td>\n",
       "      <td>None</td>\n",
       "      <td>None</td>\n",
       "      <td>None</td>\n",
       "      <td>None</td>\n",
       "    </tr>\n",
       "    <tr>\n",
       "      <th>5</th>\n",
       "      <td>109257.0</td>\n",
       "      <td>5400447</td>\n",
       "      <td>2014</td>\n",
       "      <td>0.020231</td>\n",
       "      <td>Amazonas</td>\n",
       "      <td>Ancash</td>\n",
       "      <td>Apurimac</td>\n",
       "      <td>Arequipa</td>\n",
       "      <td>Ayacucho</td>\n",
       "      <td>Cajamarca</td>\n",
       "      <td>...</td>\n",
       "      <td>Lambayeque</td>\n",
       "      <td>Lima</td>\n",
       "      <td>Loreto</td>\n",
       "      <td>Moquegua</td>\n",
       "      <td>Pasco</td>\n",
       "      <td>Piura</td>\n",
       "      <td>Puno</td>\n",
       "      <td>San Martin</td>\n",
       "      <td>Tacna</td>\n",
       "      <td>Ucayali (Adm1).</td>\n",
       "    </tr>\n",
       "    <tr>\n",
       "      <th>6</th>\n",
       "      <td>200620.0</td>\n",
       "      <td>27123303</td>\n",
       "      <td>2015</td>\n",
       "      <td>0.007397</td>\n",
       "      <td>Apurimac</td>\n",
       "      <td>Arequipa</td>\n",
       "      <td>Ayacucho</td>\n",
       "      <td>Cusco</td>\n",
       "      <td>Huancavelica</td>\n",
       "      <td>Lima</td>\n",
       "      <td>...</td>\n",
       "      <td>None</td>\n",
       "      <td>None</td>\n",
       "      <td>None</td>\n",
       "      <td>None</td>\n",
       "      <td>None</td>\n",
       "      <td>None</td>\n",
       "      <td>None</td>\n",
       "      <td>None</td>\n",
       "      <td>None</td>\n",
       "      <td>None</td>\n",
       "    </tr>\n",
       "  </tbody>\n",
       "</table>\n",
       "<p>7 rows × 26 columns</p>\n",
       "</div>"
      ],
      "text/plain": [
       "       total  total_pop  year   percent         0          1          2  \\\n",
       "0  1839888.0   14160029  2003  0.129935  Apurimac   Arequipa   Ayacucho   \n",
       "1  2137467.0    5304887  2004  0.402924    Ancash   Apurimac   Arequipa   \n",
       "2   884572.0   18324487  2007  0.048273  Apurimac   Arequipa   Ayacucho   \n",
       "3    57600.0   10040551  2010  0.005737    Ancash   Apurimac   Arequipa   \n",
       "4    92701.0   19246005  2013  0.004817  Apurimac   Ayacucho      Cusco   \n",
       "5   109257.0    5400447  2014  0.020231  Amazonas     Ancash   Apurimac   \n",
       "6   200620.0   27123303  2015  0.007397  Apurimac   Arequipa   Ayacucho   \n",
       "\n",
       "               3              4              5  ...              12      13  \\\n",
       "0          Cusco   Huancavelica       Moquegua  ...            None    None   \n",
       "1       Ayacucho          Cusco   Huancavelica  ...            Puno   Tacna   \n",
       "2      Cajamarca          Cusco   Huancavelica  ...   Tacna (Adm1).    None   \n",
       "3       Ayacucho          Cusco   Huancavelica  ...           Pasco    Puno   \n",
       "4   Huancavelica          Junin       Moquegua  ...            None    None   \n",
       "5       Arequipa       Ayacucho      Cajamarca  ...      Lambayeque    Lima   \n",
       "6          Cusco   Huancavelica           Lima  ...            None    None   \n",
       "\n",
       "                 14                15      16      17     18           19  \\\n",
       "0              None              None    None    None   None         None   \n",
       "1   Ucayali (Adm1).              None    None    None   None         None   \n",
       "2              None              None    None    None   None         None   \n",
       "3             Tacna   Ucayali (Adm1).    None    None   None         None   \n",
       "4              None              None    None    None   None         None   \n",
       "5            Loreto          Moquegua   Pasco   Piura   Puno   San Martin   \n",
       "6              None              None    None    None   None         None   \n",
       "\n",
       "       20                21  \n",
       "0    None              None  \n",
       "1    None              None  \n",
       "2    None              None  \n",
       "3    None              None  \n",
       "4    None              None  \n",
       "5   Tacna   Ucayali (Adm1).  \n",
       "6    None              None  \n",
       "\n",
       "[7 rows x 26 columns]"
      ]
     },
     "execution_count": 193,
     "metadata": {},
     "output_type": "execute_result"
    }
   ],
   "source": [
    "percentage = estimations.total/estimations.total_pop\n",
    "estimations = pd.concat([estimations, pd.Series(percentage, name=\"percent\")], axis=1)\n",
    "estimations = pd.concat([estimations, PUNO_ELT[\"Geo Locations\"].str.split(\",\", expand=True)], axis=1)\n",
    "estimations"
   ]
  },
  {
   "cell_type": "code",
   "execution_count": 194,
   "id": "0439739f",
   "metadata": {},
   "outputs": [],
   "source": [
    "estimations.to_excel(\"data_large_scale.xlsx\")"
   ]
  },
  {
   "cell_type": "code",
   "execution_count": null,
   "id": "39ddc629",
   "metadata": {},
   "outputs": [],
   "source": [
    "data_peru[data_peru[\"Disaster Type\"]==\"Extreme temperature\"].to_excel(\"Extreme temperature.xlsx\")"
   ]
  },
  {
   "cell_type": "code",
   "execution_count": null,
   "id": "ac61595a",
   "metadata": {},
   "outputs": [],
   "source": [
    "sns.set_theme(style=\"darkgrid\", palette=\"Set3\")"
   ]
  },
  {
   "cell_type": "code",
   "execution_count": null,
   "id": "b48a2a89",
   "metadata": {},
   "outputs": [],
   "source": [
    "sns.barplot(y=[Disaster_Types.index[i] for i in (1, 2, 3, 9)]  ,x=[Disaster_Types.values[i] for i in (1, 2, 3, 9)] )\n",
    "\n",
    "plt.ylabel('Disaster Type')\n",
    "plt.xlabel('Suddenly onset clime-related disasters 2000-2022')\n",
    "plt.title('Cummulative Disaster Frequency Peru',color = 'blue',fontsize=15)\n",
    "plt.savefig('Cummulative Disaster Frequency Peru.png', dpi = 1200, bbox_inches=\"tight\")"
   ]
  },
  {
   "cell_type": "code",
   "execution_count": null,
   "id": "9d71614f",
   "metadata": {},
   "outputs": [],
   "source": [
    "Disaster_per_Year = data_peru[\"Year\"].value_counts()\n",
    "\n",
    "sns.pointplot(x=Disaster_per_Year.index, y=Disaster_per_Year.values)\n",
    "plt.ylabel('Suddenly onset clime-related disasters')\n",
    "plt.xlabel('Year (2000-2022)')\n",
    "plt.xticks(rotation=45)\n",
    "plt.title('Disaster Frequency per Year Peru',color = 'blue',fontsize=15)\n",
    "plt.savefig('Disaster Frequency per Year Peru.png', dpi = 1200, bbox_inches=\"tight\")\n",
    "plt.tight_layout()"
   ]
  },
  {
   "cell_type": "code",
   "execution_count": null,
   "id": "6ad65362",
   "metadata": {},
   "outputs": [],
   "source": [
    "Disaster_per_Year"
   ]
  },
  {
   "cell_type": "code",
   "execution_count": null,
   "id": "396b7a52",
   "metadata": {},
   "outputs": [],
   "source": [
    "\n",
    "# Python program to convert .tsv file to .csv file\n",
    "# importing re library\n",
    "import re\n",
    "  \n",
    "# reading given tsv file\n",
    "with open(\"G:\\My Drive\\Tesis - Mestrado PUCRio\\Databases\\earthquakes-2022-05-29_23-58-03_-0300.tsv\", 'r') as myfile:  \n",
    "  with open(\"G:\\My Drive\\Tesis - Mestrado PUCRio\\Databases\\earthquakes-2022-05-29_23-58-03_-0300.csv\", 'w') as csv_file:\n",
    "    for line in myfile:\n",
    "        \n",
    "      # Replace every tab with comma\n",
    "      fileContent = re.sub(\"\\t\", \",\", line)\n",
    "        \n",
    "      # Writing into csv file\n",
    "      csv_file.write(fileContent)\n",
    "  \n",
    "# output\n",
    "print(\"Successfully made csv file\")"
   ]
  },
  {
   "cell_type": "code",
   "execution_count": null,
   "id": "3c56d2b8",
   "metadata": {},
   "outputs": [],
   "source": []
  }
 ],
 "metadata": {
  "kernelspec": {
   "display_name": "Python 3.10.5 64-bit",
   "language": "python",
   "name": "python3"
  },
  "language_info": {
   "codemirror_mode": {
    "name": "ipython",
    "version": 3
   },
   "file_extension": ".py",
   "mimetype": "text/x-python",
   "name": "python",
   "nbconvert_exporter": "python",
   "pygments_lexer": "ipython3",
   "version": "3.10.5"
  },
  "vscode": {
   "interpreter": {
    "hash": "afb734500600fd355917ca529030176ea0ca205570884b88f2f6f7d791fd3fbe"
   }
  }
 },
 "nbformat": 4,
 "nbformat_minor": 5
}
