{
 "cells": [
  {
   "cell_type": "code",
   "execution_count": 1,
   "id": "8d314a12",
   "metadata": {},
   "outputs": [],
   "source": [
    "import pandas as pd\n",
    "import numpy as np\n",
    "import os\n",
    "#Read the data from GitHub directly\n",
    "url = \"https://github.com/renatoquiliche/PaperCienciaDados-PunoPeru/blob/main/Databases/peru_2019.csv?raw=true\"\n",
    "\n",
    "data_puno = pd.read_csv(url)"
   ]
  },
  {
   "cell_type": "code",
   "execution_count": 2,
   "id": "36a9ce64",
   "metadata": {},
   "outputs": [],
   "source": [
    "# Set the random seed for reproductible results\n",
    "np.random.seed(0)\n",
    "\n",
    "Y = data_puno[\"disasters_risk\"]"
   ]
  },
  {
   "cell_type": "code",
   "execution_count": 4,
   "id": "6dda177d",
   "metadata": {},
   "outputs": [
    {
     "name": "stdout",
     "output_type": "stream",
     "text": [
      "Old data dimension (1106, 86)\n",
      "Features removed : 13\n",
      "New data dimension (1106, 73)\n"
     ]
    }
   ],
   "source": [
    "from preprocessing import preprocessing\n",
    "x = preprocessing(data_puno, umbral=0.02)"
   ]
  },
  {
   "cell_type": "code",
   "execution_count": 6,
   "id": "e0055c87",
   "metadata": {},
   "outputs": [],
   "source": [
    "# Init the grid search cross-validation on RFC\n",
    "from sklearn.model_selection import GridSearchCV, RandomizedSearchCV\n",
    "from sklearn.metrics import matthews_corrcoef, make_scorer, accuracy_score, f1_score, roc_curve\n",
    "#from sklearn.model_selection import StratifiedKFold\n",
    "from sklearn.model_selection import RepeatedStratifiedKFold\n",
    "#from sklearn.model_selection import StratifiedShuffleSplit\n",
    "from sklearn.metrics import confusion_matrix\n",
    "from sklearn.ensemble import RandomForestClassifier\n",
    "\n",
    "# I define here the NPV metric\n",
    "def neg_pred_value(y_true,y_predicted):\n",
    "    cm = confusion_matrix(y_true, y_predicted)\n",
    "    if (cm[1][0]+cm[0][0])==0:\n",
    "        neg_pred_value=0\n",
    "    else:\n",
    "        neg_pred_value = cm[0][0]/(cm[1][0]+cm[0][0])\n",
    "    return neg_pred_value"
   ]
  },
  {
   "cell_type": "code",
   "execution_count": 7,
   "id": "ebc43d88",
   "metadata": {},
   "outputs": [
    {
     "data": {
      "text/plain": [
       "[0.001, 0.01, 0.1, 1, 10.0, 100.0, 1000.0]"
      ]
     },
     "execution_count": 7,
     "metadata": {},
     "output_type": "execute_result"
    }
   ],
   "source": [
    "[1e-3,1e-2,1e-1,1,1e1,1e2,1e3]"
   ]
  },
  {
   "cell_type": "code",
   "execution_count": 66,
   "id": "0f9529c3",
   "metadata": {},
   "outputs": [],
   "source": [
    "from sklearn.neural_network import MLPClassifier\n",
    "\n",
    "def RFCexperiments(K_folds, Repeats, n_iter):\n",
    "    # Cross-validation method\n",
    "    cv = RepeatedStratifiedKFold(n_splits=K_folds, n_repeats=Repeats, random_state=0)\n",
    "    \n",
    "    # Hyperparameter grid for RFC\n",
    "    param_grid = {'hidden_layer_sizes': [(100,10),(110,10), (120,10), (130,10)],\n",
    "                  'solver': ['adam'],\n",
    "                  'activation': ['identity', 'tanh'],\n",
    "                  'alpha': [8,9,10,11,12],\n",
    "                  'learning_rate_init': [0.01],\n",
    "                  'max_iter': [1000,1200],\n",
    "                  'beta_1': [0.9],\n",
    "                  'beta_2': [0.999]}\n",
    "    \n",
    "    # I define the model here\n",
    "    MLP = MLPClassifier(random_state=0)\n",
    "    scoring = {\"AUC\": \"roc_auc\"\n",
    "               , \"Accuracy\": make_scorer(accuracy_score)\n",
    "               , \"F1-Score\": \"f1\"\n",
    "               , \"MCC\": make_scorer(matthews_corrcoef)\n",
    "               , \"NPV\": make_scorer(neg_pred_value)}\n",
    "    \n",
    "    #Test CV\n",
    "    search_ddnn = RandomizedSearchCV(random_state=0, estimator=MLP, param_distributions=param_grid\n",
    "                                     , scoring=scoring, cv=cv, n_jobs=-1, refit=\"MCC\", verbose=10, n_iter=n_iter)\n",
    "    results = search_ddnn.fit(x, Y)\n",
    "    return results"
   ]
  },
  {
   "cell_type": "code",
   "execution_count": 67,
   "id": "4b4ceab8",
   "metadata": {},
   "outputs": [
    {
     "name": "stderr",
     "output_type": "stream",
     "text": [
      "C:\\Users\\xx-re\\AppData\\Local\\Programs\\Python\\Python311\\Lib\\site-packages\\sklearn\\model_selection\\_search.py:306: UserWarning: The total space of parameters 80 is smaller than n_iter=200. Running 80 iterations. For exhaustive searches, use GridSearchCV.\n",
      "  warnings.warn(\n"
     ]
    },
    {
     "name": "stdout",
     "output_type": "stream",
     "text": [
      "Fitting 10 folds for each of 80 candidates, totalling 800 fits\n",
      "Training time:  57.9514274597168  seconds\n"
     ]
    }
   ],
   "source": [
    "import time\n",
    "start = time.time()\n",
    "\n",
    "K = 10\n",
    "Repeats = 1\n",
    "n_iter = 200\n",
    "RFC_results =  RFCexperiments(K, Repeats, n_iter)\n",
    "\n",
    "Total_time = (time.time() - start)\n",
    "print(\"Training time: \", Total_time, \" seconds\")"
   ]
  },
  {
   "cell_type": "code",
   "execution_count": 43,
   "id": "96ee42fb",
   "metadata": {},
   "outputs": [
    {
     "data": {
      "text/plain": [
       "0.5578231029879376"
      ]
     },
     "execution_count": 43,
     "metadata": {},
     "output_type": "execute_result"
    }
   ],
   "source": [
    "RFC_results.best_score_"
   ]
  },
  {
   "cell_type": "code",
   "execution_count": 65,
   "id": "894ddf17",
   "metadata": {},
   "outputs": [
    {
     "data": {
      "text/plain": [
       "<AxesSubplot: >"
      ]
     },
     "execution_count": 65,
     "metadata": {},
     "output_type": "execute_result"
    },
    {
     "data": {
      "image/png": "[encoded data removed]",
      "text/plain": [
       "<Figure size 640x480 with 1 Axes>"
      ]
     },
     "metadata": {},
     "output_type": "display_data"
    }
   ],
   "source": [
    "import seaborn as sns\n",
    "sns.boxplot(x=RFC_results.cv_results_['param_'+'hidden_layer_sizes'], y=RFC_results.cv_results_['mean_test_MCC'])"
   ]
  }
 ],
 "metadata": {
  "kernelspec": {
   "display_name": "Python 3 (ipykernel)",
   "language": "python",
   "name": "python3"
  },
  "language_info": {
   "codemirror_mode": {
    "name": "ipython",
    "version": 3
   },
   "file_extension": ".py",
   "mimetype": "text/x-python",
   "name": "python",
   "nbconvert_exporter": "python",
   "pygments_lexer": "ipython3",
   "version": "3.11.0"
  }
 },
 "nbformat": 4,
 "nbformat_minor": 5
}
