{
 "cells": [
  {
   "cell_type": "code",
   "execution_count": 1,
   "metadata": {},
   "outputs": [],
   "source": [
    "import pandas as pd\n",
    "import numpy as np\n",
    "import os\n",
    "#Read the data from GitHub directly\n",
    "url = \"https://github.com/renatoquiliche/PaperCienciaDados-PunoPeru/blob/main/Databases/peru_2019.csv?raw=true\"\n",
    "\n",
    "data_puno = pd.read_csv(url)\n"
   ]
  },
  {
   "cell_type": "code",
   "execution_count": 2,
   "metadata": {},
   "outputs": [],
   "source": [
    "# Set the random seed for reproductible results\n",
    "np.random.seed(0)\n",
    "\n",
    "Y = data_puno[\"disasters_risk\"]"
   ]
  },
  {
   "cell_type": "code",
   "execution_count": 3,
   "metadata": {},
   "outputs": [
    {
     "name": "stdout",
     "output_type": "stream",
     "text": [
      "Old data dimension (1106, 86)\n",
      "Features removed : 13\n",
      "New data dimension (1106, 73)\n"
     ]
    }
   ],
   "source": [
    "from preprocessing import preprocessing\n",
    "x = preprocessing(data_puno, umbral=0.02)\n"
   ]
  },
  {
   "cell_type": "code",
   "execution_count": 4,
   "metadata": {},
   "outputs": [],
   "source": [
    "\n",
    "# Init the grid search cross-validation on RFC\n",
    "from sklearn.model_selection import GridSearchCV, RandomizedSearchCV\n",
    "from sklearn.metrics import matthews_corrcoef, make_scorer, accuracy_score, f1_score, roc_curve\n",
    "#from sklearn.model_selection import StratifiedKFold\n",
    "from sklearn.model_selection import RepeatedStratifiedKFold\n",
    "#from sklearn.model_selection import StratifiedShuffleSplit\n",
    "from sklearn.metrics import confusion_matrix\n",
    "from sklearn.ensemble import RandomForestClassifier\n",
    "\n",
    "# I define here the NPV metric\n",
    "def neg_pred_value(y_true,y_predicted):\n",
    "    cm = confusion_matrix(y_true, y_predicted)\n",
    "    if (cm[1][0]+cm[0][0])==0:\n",
    "        neg_pred_value=0\n",
    "    else:\n",
    "        neg_pred_value = cm[0][0]/(cm[1][0]+cm[0][0])\n",
    "    return neg_pred_value\n"
   ]
  },
  {
   "cell_type": "code",
   "execution_count": 5,
   "metadata": {},
   "outputs": [],
   "source": [
    "from scipy.stats import uniform, randint\n",
    "\n",
    "def RFCexperiments(K_folds, Repeats, n_iter):\n",
    "    # Cross-validation method\n",
    "    cv = RepeatedStratifiedKFold(n_splits=K_folds, n_repeats=Repeats, random_state=0)\n",
    "    \n",
    "    # Hyperparameter grid for RFC\n",
    "    param_grid = {'criterion': ['gini', 'entropy'],\n",
    "                  'max_depth': randint(2,10),\n",
    "                  'max_samples': [0.2, 0.5, 0.8],\n",
    "                  'min_samples_split': uniform(0, 0.6),\n",
    "                  'min_samples_leaf': uniform(0, 0.4),\n",
    "                  'n_estimators': [10, 100, 200, 250, 300, 500],\n",
    "                  'max_features': ['log2', 'sqrt']}\n",
    "    \n",
    "    # I define the model here\n",
    "    RFC = RandomForestClassifier(random_state=0, n_jobs=-1, bootstrap=True)\n",
    "    scoring = {\"AUC\": \"roc_auc\"\n",
    "               , \"Accuracy\": make_scorer(accuracy_score)\n",
    "               , \"F1-Score\": \"f1\"\n",
    "               , \"MCC\": make_scorer(matthews_corrcoef)\n",
    "               , \"NPV\": make_scorer(neg_pred_value)}\n",
    "    \n",
    "    #Test CV\n",
    "    search_ddnn = RandomizedSearchCV(random_state=0, estimator = RFC, param_distributions=param_grid\n",
    "                                     , scoring=scoring, cv=cv, n_jobs=-1, refit=\"MCC\", verbose=4, n_iter=n_iter)\n",
    "    results = search_ddnn.fit(x, Y)\n",
    "    return results\n"
   ]
  },
  {
   "cell_type": "code",
   "execution_count": null,
   "metadata": {},
   "outputs": [
    {
     "name": "stdout",
     "output_type": "stream",
     "text": [
      "Fitting 20 folds for each of 2000 candidates, totalling 40000 fits\n"
     ]
    }
   ],
   "source": [
    "import time\n",
    "start = time.time()\n",
    "\n",
    "K = 10\n",
    "Repeats = 2\n",
    "n_iter = 2000\n",
    "RFC_results =  RFCexperiments(K, Repeats, n_iter)\n",
    "\n",
    "Total_time = (time.time() - start)\n",
    "print(\"Training time: \", Total_time, \" seconds\")\n"
   ]
  },
  {
   "cell_type": "code",
   "execution_count": null,
   "metadata": {},
   "outputs": [],
   "source": [
    "\n",
    "pd.DataFrame(RFC_results.cv_results_).to_csv(\"..\\Resultados\\RFC\\RFC_results.csv\")"
   ]
  }
 ],
 "metadata": {
  "kernelspec": {
   "display_name": "Python 3 (ipykernel)",
   "language": "python",
   "name": "python3"
  },
  "language_info": {
   "codemirror_mode": {
    "name": "ipython",
    "version": 3
   },
   "file_extension": ".py",
   "mimetype": "text/x-python",
   "name": "python",
   "nbconvert_exporter": "python",
   "pygments_lexer": "ipython3",
   "version": "3.10.6"
  }
 },
 "nbformat": 4,
 "nbformat_minor": 2
}
